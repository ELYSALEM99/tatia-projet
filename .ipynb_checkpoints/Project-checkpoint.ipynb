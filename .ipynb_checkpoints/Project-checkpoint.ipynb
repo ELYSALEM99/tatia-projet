{
 "cells": [
  {
   "cell_type": "code",
   "execution_count": null,
   "id": "0414705e",
   "metadata": {},
   "outputs": [],
   "source": [
    "import csv\n",
    "\n",
    "animes_titles = []\n",
    "animes_synopsis = []\n",
    "animes_genres = []\n",
    "\n",
    "with open('anime.csv', encoding='utf-8') as file:\n",
    "    reader = csv.DictReader(file,delimiter=\"\\t\")\n",
    "    for row in reader:\n",
    "        #if row[\"synopsis\"] != '.':\n",
    "        animes_titles.append(row[\"title\"])\n",
    "        animes_synopsis.append(row[\"synopsis\"])\n",
    "        animes_genres.append(row[\"genres\"].split('|'))"
   ]
  }
 ],
 "metadata": {
  "kernelspec": {
   "display_name": "Python 3 (ipykernel)",
   "language": "python",
   "name": "python3"
  },
  "language_info": {
   "codemirror_mode": {
    "name": "ipython",
    "version": 3
   },
   "file_extension": ".py",
   "mimetype": "text/x-python",
   "name": "python",
   "nbconvert_exporter": "python",
   "pygments_lexer": "ipython3",
   "version": "3.8.5"
  }
 },
 "nbformat": 4,
 "nbformat_minor": 5
}
